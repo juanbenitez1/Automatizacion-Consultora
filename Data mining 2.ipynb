{
  "nbformat": 4,
  "nbformat_minor": 0,
  "metadata": {
    "colab": {
      "provenance": [],
      "collapsed_sections": [
        "Cdn2MHq-o9gd",
        "8ScMwh8GpEn7",
        "BpfHFXIbpLcD",
        "Nv1zY0lzpPI7",
        "EfbzD8kSpafD",
        "BUSmXFcBsiJN",
        "45SPEDzQsxtS",
        "DsY3oqoKszit",
        "n8GeiPETs-Et",
        "cA4r1_G8VlCM",
        "-e7-W7BqVnNO",
        "4EZZtzg7ZCdT",
        "q-FE_1Gtkb1c"
      ]
    },
    "kernelspec": {
      "name": "python3",
      "display_name": "Python 3"
    },
    "language_info": {
      "name": "python"
    }
  },
  "cells": [
    {
      "cell_type": "markdown",
      "source": [
        "# Cargas"
      ],
      "metadata": {
        "id": "Cdn2MHq-o9gd"
      }
    },
    {
      "cell_type": "code",
      "execution_count": null,
      "metadata": {
        "id": "e32bJqiXo6GQ",
        "colab": {
          "base_uri": "https://localhost:8080/"
        },
        "outputId": "c625deb3-8194-4154-caa0-ff4b95478d02"
      },
      "outputs": [
        {
          "output_type": "stream",
          "name": "stdout",
          "text": [
            "Mounted at /content/drive\n"
          ]
        }
      ],
      "source": [
        "from google.colab import drive\n",
        "drive.mount('/content/drive')"
      ]
    },
    {
      "cell_type": "code",
      "source": [
        "!pip install python-docx"
      ],
      "metadata": {
        "id": "1-uBHhjbo9HL",
        "colab": {
          "base_uri": "https://localhost:8080/"
        },
        "outputId": "83e69d5b-bc3a-49ae-ac2e-057d2d289d56"
      },
      "execution_count": null,
      "outputs": [
        {
          "output_type": "stream",
          "name": "stdout",
          "text": [
            "Looking in indexes: https://pypi.org/simple, https://us-python.pkg.dev/colab-wheels/public/simple/\n",
            "Collecting python-docx\n",
            "  Downloading python-docx-0.8.11.tar.gz (5.6 MB)\n",
            "\u001b[K     |████████████████████████████████| 5.6 MB 4.9 MB/s \n",
            "\u001b[?25hRequirement already satisfied: lxml>=2.3.2 in /usr/local/lib/python3.7/dist-packages (from python-docx) (4.9.1)\n",
            "Building wheels for collected packages: python-docx\n",
            "  Building wheel for python-docx (setup.py) ... \u001b[?25l\u001b[?25hdone\n",
            "  Created wheel for python-docx: filename=python_docx-0.8.11-py3-none-any.whl size=184507 sha256=3fb1976a576dbec097198423b03cc69f155e6458dd8d2e0e4a847c44fc851c12\n",
            "  Stored in directory: /root/.cache/pip/wheels/f6/6f/b9/d798122a8b55b74ad30b5f52b01482169b445fbb84a11797a6\n",
            "Successfully built python-docx\n",
            "Installing collected packages: python-docx\n",
            "Successfully installed python-docx-0.8.11\n"
          ]
        }
      ]
    },
    {
      "cell_type": "code",
      "source": [
        "from docx import Document\n",
        "import pandas as pd\n",
        "import numpy as np\n",
        "from itertools import islice\n",
        "import itertools\n",
        "import os\n",
        "import uuid\n",
        "import time\n",
        "\n",
        "output_path = '/'"
      ],
      "metadata": {
        "id": "oriO3gvupCLY"
      },
      "execution_count": null,
      "outputs": []
    },
    {
      "cell_type": "markdown",
      "source": [
        "# Funciones"
      ],
      "metadata": {
        "id": "8ScMwh8GpEn7"
      }
    },
    {
      "cell_type": "code",
      "source": [
        "def get_unique_list(data):\n",
        "  list_of_lists = data2\n",
        "  data_unique = []\n",
        "  for i in list_of_lists:\n",
        "    if i not in data_unique:\n",
        "      data_unique.append(i)\n",
        "\n",
        "  data_final = []\n",
        "  for i in data_unique:\n",
        "    for j in i:\n",
        "      j = j.strip('\\n').strip(' ')\n",
        "      data_final.append(j)\n",
        "\n",
        "  return data_final"
      ],
      "metadata": {
        "id": "30O012EXpFrl"
      },
      "execution_count": null,
      "outputs": []
    },
    {
      "cell_type": "code",
      "source": [
        "def get_table_index(list_tables, value):\n",
        "  data2 = []\n",
        "  miles_index = []\n",
        "  for table in list_tables:\n",
        "    for i, row in enumerate(table.rows[:]):\n",
        "      text = (cell.text for cell in row.cells)\n",
        "      text = list(text)\n",
        "      for i in text:\n",
        "        data2.append(text)\n",
        "\n",
        "    list_of_lists = data2\n",
        "    data_unique = []\n",
        "    for i in list_of_lists:\n",
        "      if i not in data_unique:\n",
        "        data_unique.append(i)\n",
        "\n",
        "    for sublist in data_unique:\n",
        "      for i in sublist:\n",
        "        if i == str(value):\n",
        "          miles_index.append(list_tables.index(table))\n",
        "        else:\n",
        "          pass\n",
        "    \n",
        "  return miles_index[0]\n",
        "\n",
        "\n",
        "def get_table_index_2(list_tables, value):\n",
        "  data2 = []\n",
        "  miles_index = []\n",
        "  for table in list_tables:\n",
        "    for i, row in enumerate(table.rows[:]):\n",
        "      text = (cell.text for cell in row.cells)\n",
        "      text = list(text)\n",
        "      for i in text:\n",
        "        data2.append(text)\n",
        "\n",
        "    list_of_lists = data2\n",
        "    data_unique = []\n",
        "    for i in list_of_lists:\n",
        "      if i not in data_unique:\n",
        "        data_unique.append(i)\n",
        "\n",
        "    for sublist in data_unique:\n",
        "      for i in sublist:\n",
        "        if str(value) in i:\n",
        "          miles_index.append(list_tables.index(table))\n",
        "        else:\n",
        "          pass\n",
        "    \n",
        "  return miles_index[0]\n",
        "\n",
        "def get_table_index_3(list_tables, value):\n",
        "  data2 = []\n",
        "  miles_index = []\n",
        "  for table in list_tables:\n",
        "    for i, row in enumerate(table.rows[:]):\n",
        "      text = (cell.text for cell in row.cells)\n",
        "      text = list(text)\n",
        "      for i in text:\n",
        "        data2.append(text)\n",
        "\n",
        "    list_of_lists = data2\n",
        "    data_unique = []\n",
        "    for i in list_of_lists:\n",
        "      if i not in data_unique:\n",
        "        data_unique.append(i)\n",
        "\n",
        "    for sublist in data_unique:\n",
        "      for i in sublist:\n",
        "        if i == str(value):\n",
        "          miles_index.append(list_tables.index(table))\n",
        "        else:\n",
        "          pass\n",
        "    \n",
        "  return miles_index"
      ],
      "metadata": {
        "id": "wRjx9AZhpHP1"
      },
      "execution_count": null,
      "outputs": []
    },
    {
      "cell_type": "code",
      "source": [
        "def get_index(iterable, value, n):\n",
        "    matches = (idx for idx, val in enumerate(iterable) if value in val)\n",
        "    return next(islice(matches, n-1, n), None)"
      ],
      "metadata": {
        "id": "wc6vQ2jmpIrv"
      },
      "execution_count": null,
      "outputs": []
    },
    {
      "cell_type": "markdown",
      "source": [
        "# DataTable1"
      ],
      "metadata": {
        "id": "BpfHFXIbpLcD"
      }
    },
    {
      "cell_type": "markdown",
      "source": [
        "## Formato 1"
      ],
      "metadata": {
        "id": "Nv1zY0lzpPI7"
      }
    },
    {
      "cell_type": "code",
      "source": [
        "entity_1 = []\n",
        "agency_1 = []\n",
        "event_1 = []\n",
        "agency_representative_1 = []\n",
        "client_representative_1 = []\n",
        "agreement_name_1 = []\n",
        "UID_1 = []\n",
        "time_1 = []"
      ],
      "metadata": {
        "id": "2VNwp6busVLm"
      },
      "execution_count": null,
      "outputs": []
    },
    {
      "cell_type": "code",
      "source": [
        "words_path = '..'\n",
        "files = [f for f in os.listdir(words_path) if f.endswith(\".docx\")]\n",
        "for file in files:\n",
        "  word_file = Document(words_path + file)\n",
        "  tables = word_file.tables\n",
        "  data = []\n",
        "\n",
        "  for table in tables:\n",
        "    for i, row in enumerate (table.rows[:]):\n",
        "      row_content = []\n",
        "      for cell in row.cells[:]:\n",
        "        c = cell.text\n",
        "        c = c.strip(\"\\n\").strip(\"\\t\")\n",
        "        c = c.replace('\\n', ' ')\n",
        "        row_content.append(c)\n",
        "      data.append(row_content)\n",
        "  \n",
        "  created = os.path.getctime(words_path+file)\n",
        "  created = time.strftime('%d-%m-%Y')\n",
        "\n",
        "  time_1.append(created)\n",
        "  entity_1.append(data[0][1])\n",
        "  agency_1.append(data[3][1])\n",
        "  event_1.append(data[7][1].split(' ')[0] + ' ' + data[7][1].split(' ')[1] + ' ' + data[7][1].split(' ')[2])\n",
        "  agency_representative_1.append(data[10][0].strip('Name: '))\n",
        "  client_representative_1.append(data[10][1].strip('Name: '))\n",
        "  agreement_name_1.append(str(file))\n",
        "  UIDtemp = str(uuid.uuid4())\n",
        "  UID_1.append(UIDtemp)"
      ],
      "metadata": {
        "id": "4z5OWWzjpQX8"
      },
      "execution_count": null,
      "outputs": []
    },
    {
      "cell_type": "markdown",
      "source": [
        "## Formato 2"
      ],
      "metadata": {
        "id": "EfbzD8kSpafD"
      }
    },
    {
      "cell_type": "code",
      "source": [
        "entity_2 = []\n",
        "agency_2 = []\n",
        "event_2 = []\n",
        "agency_representative_2 = []\n",
        "client_representative_2 = []\n",
        "agreement_name_2 = []\n",
        "UID_2 = []\n",
        "time_2 = []"
      ],
      "metadata": {
        "id": "RB0ymMx2sXyD"
      },
      "execution_count": null,
      "outputs": []
    },
    {
      "cell_type": "code",
      "source": [
        "words_path = '..'\n",
        "files = [f for f in os.listdir(words_path) if f.endswith(\".docx\")]\n",
        "\n",
        "for file in files:\n",
        "  word_file = Document(words_path + file)\n",
        "  tables = word_file.tables\n",
        "\n",
        "  data = []\n",
        "\n",
        "  for table in tables:\n",
        "    for i, row in enumerate (table.rows[:]):\n",
        "      row_content = []\n",
        "      for cell in row.cells[:]:\n",
        "        c = cell.text\n",
        "        c = c.strip(\"\\n\").strip(\"\\t\")\n",
        "        c = c.replace('\\n', ' ')\n",
        "        row_content.append(c)\n",
        "      data.append(row_content)\n",
        "\n",
        "  created = os.path.getctime(words_path+file)\n",
        "  created = time.strftime('%d-%m-%Y')\n",
        "\n",
        "  time_2.append(created)\n",
        "  entity_2.append(data[0][1])\n",
        "  agency_2.append(data[3][1])\n",
        "  event_2.append(data[7][1].split(' ')[0] + ' ' + data[7][1].split(' ')[1] + ' ' + data[7][1].split(' ')[2])\n",
        "  agency_representative_2.append(data[12][0].strip('Name: '))\n",
        "  client_representative_2.append(data[12][1].strip('Name: '))\n",
        "  agreement_name_2.append(str(file))\n",
        "  UIDtemp = str(uuid.uuid4())\n",
        "  UID_2.append(UIDtemp)"
      ],
      "metadata": {
        "id": "4cv6oBWzpbsL"
      },
      "execution_count": null,
      "outputs": []
    },
    {
      "cell_type": "markdown",
      "source": [
        "## Unificación"
      ],
      "metadata": {
        "id": "BUSmXFcBsiJN"
      }
    },
    {
      "cell_type": "code",
      "source": [
        "entity = []\n",
        "agency = []\n",
        "event = []\n",
        "agency_representative = []\n",
        "client_representative = []\n",
        "agreement_name = []\n",
        "UID = []\n",
        "time = []\n",
        "\n",
        "entity += entity_1\n",
        "entity += entity_2\n",
        "\n",
        "agency += agency_1\n",
        "agency += agency_2\n",
        "\n",
        "event += event_1\n",
        "event += event_2\n",
        "\n",
        "agency_representative += agency_representative_1\n",
        "agency_representative += agency_representative_2\n",
        "\n",
        "client_representative += client_representative_1\n",
        "client_representative += client_representative_2\n",
        "\n",
        "agreement_name += agreement_name_1\n",
        "agreement_name += agreement_name_2\n",
        "\n",
        "UID += UID_1\n",
        "UID += UID_2\n",
        "\n",
        "time += time_1\n",
        "time += time_2"
      ],
      "metadata": {
        "id": "y_eNcZrUsca7"
      },
      "execution_count": null,
      "outputs": []
    },
    {
      "cell_type": "code",
      "source": [
        "DataTable1 = {'Agency':agency,\n",
        "              'Entity (Client)':entity,\n",
        "              'Agency Representative (Name)':agency_representative,\n",
        "              'Client Representative (Name)':client_representative,\n",
        "              'Date':time,\n",
        "              'Agreement Name':agreement_name,\n",
        "              'Event':event\n",
        "             }\n",
        "\n",
        "DataTable1 = pd.DataFrame(DataTable1)\n",
        "DataTable1.to_excel(str(output_path) + 'DataTable1.xlsx')"
      ],
      "metadata": {
        "id": "nmAKesIIscdD"
      },
      "execution_count": null,
      "outputs": []
    },
    {
      "cell_type": "markdown",
      "source": [
        "# DataTable 2"
      ],
      "metadata": {
        "id": "45SPEDzQsxtS"
      }
    },
    {
      "cell_type": "markdown",
      "source": [
        "## Formato 1"
      ],
      "metadata": {
        "id": "DsY3oqoKszit"
      }
    },
    {
      "cell_type": "code",
      "source": [
        "milestone_name_1 = []\n",
        "service_end_date_1 = []\n",
        "payment_terms_1 = []\n",
        "UIDtemp_1 = []\n",
        "agreement_name_1 = []\n",
        "milestone_start_date_1 = []"
      ],
      "metadata": {
        "id": "__RT3uhkAJ_S"
      },
      "execution_count": null,
      "outputs": []
    },
    {
      "cell_type": "code",
      "source": [
        "words_path = '..'\n",
        "files = [f for f in os.listdir(words_path) if f.endswith(\".docx\")]\n",
        "\n",
        "for file in files:\n",
        "  word_file = Document(words_path + file)\n",
        "  tables = word_file.tables\n",
        "\n",
        "  table_index = get_table_index(tables, '\\nMilestone')\n",
        "\n",
        "  data2 = []\n",
        "  keys = None\n",
        "  for i, row in enumerate(tables[table_index].rows[:]):\n",
        "    text = (cell.text for cell in row.cells)\n",
        "    text = list(text)\n",
        "    for i in text:\n",
        "      data2.append(text)\n",
        "\n",
        "  data3 = get_unique_list(data2)\n",
        "\n",
        "  milestone_index = get_index(data3,'Milestone',1)\n",
        "  milestone_name = []\n",
        "  cuenta = 0\n",
        "  while cuenta < 100:\n",
        "    try:\n",
        "      name = data3[milestone_index + 6]\n",
        "      if name not in milestone_name:\n",
        "        milestone_name.append(name)\n",
        "        milestone_name_1.append(name)\n",
        "        milestone_index += 6\n",
        "      else:\n",
        "        milestone_index += 6\n",
        "      cuenta += 1\n",
        "    except:\n",
        "      break\n",
        "  \n",
        "  SED_index = get_index(data3,'Service End Date',1)\n",
        "  cuenta = 0\n",
        "  while cuenta < 100:\n",
        "    try:\n",
        "      name = data3[SED_index + 1]\n",
        "      service_end_date_1.append(name)\n",
        "      SED_index += 24\n",
        "      cuenta += 1\n",
        "    except:\n",
        "      break\n",
        "\n",
        "  try:\n",
        "    table_index = get_table_index(tables, '\\nPayment Terms')\n",
        "    table_index_list = [table_index]\n",
        "  except:\n",
        "    table_index_list = [None]    \n",
        "    \n",
        "  data2 = []\n",
        "  keys = None\n",
        "\n",
        "  if table_index_list[0] != None:\n",
        "    for i, row in enumerate(tables[table_index].rows[:]):\n",
        "      text = (cell.text for cell in row.cells)\n",
        "      text = list(text)\n",
        "      for i in text:\n",
        "        data2.append(text)\n",
        "\n",
        "    data3 = get_unique_list(data2)\n",
        "\n",
        "    payment_index = get_index(data3,'Payment Terms',1)\n",
        "    cuenta = 0\n",
        "    while cuenta < 100:\n",
        "      try:\n",
        "        name = data3[payment_index + 6]\n",
        "        if name != '':\n",
        "          payment_terms_1.append(name)\n",
        "          payment_index += 24\n",
        "\n",
        "        cuenta += 1\n",
        "        \n",
        "      except:\n",
        "        break\n",
        "  else:\n",
        "    for i in range(0, len(milestone_name)):\n",
        "      payment_terms_1.append('-')\n",
        "\n",
        "  UID_1 = str(uuid.uuid4())\n",
        "  for i in range(0, len(milestone_name)):\n",
        "    UIDtemp_1.append(UID_1)\n",
        "  \n",
        "  filename1 = str(file)\n",
        "  for i in range(0, len(milestone_name)):\n",
        "    agreement_name_1.append(filename1)\n",
        "    \n",
        "  for i in range(0, len(milestone_name)):\n",
        "    milestone_start_date_1.append('-')"
      ],
      "metadata": {
        "id": "cf-5T592phZb"
      },
      "execution_count": null,
      "outputs": []
    },
    {
      "cell_type": "markdown",
      "source": [
        "## Formato 2"
      ],
      "metadata": {
        "id": "n8GeiPETs-Et"
      }
    },
    {
      "cell_type": "code",
      "source": [
        "milestone_name_2 = []\n",
        "service_end_date_2 = []\n",
        "payment_terms_2 = []\n",
        "UIDtemp_2 = []\n",
        "agreement_name_2 = []\n",
        "milestone_start_date_2 = []"
      ],
      "metadata": {
        "id": "a_teBKedBCVx"
      },
      "execution_count": null,
      "outputs": []
    },
    {
      "cell_type": "code",
      "source": [
        "words_path = '..'\n",
        "files = [f for f in os.listdir(words_path) if f.endswith(\".docx\")]\n",
        "\n",
        "for file in files:\n",
        "  word_file = Document(words_path + file)\n",
        "  tables = word_file.tables\n",
        "\n",
        "  table_index = get_table_index(tables, 'Milestone\\nNo.')\n",
        "\n",
        "  data2 = []\n",
        "  keys = None\n",
        "  for i, row in enumerate(tables[table_index].rows[:]):\n",
        "    text = (cell.text for cell in row.cells)\n",
        "    text = list(text)\n",
        "    for i in text:\n",
        "      data2.append(text)\n",
        "\n",
        "  data3 = get_unique_list(data2)\n",
        "\n",
        "  milestone_index = get_index(data3,'Milestone\\nNo.',1)\n",
        "  milestone_name = []\n",
        "  cuenta = 0\n",
        "  while cuenta < 100:\n",
        "    try:\n",
        "      name = data3[milestone_index + 8]\n",
        "      if name not in milestone_name:\n",
        "        milestone_name.append(name)\n",
        "        milestone_name_2.append(name)\n",
        "        milestone_index += 8\n",
        "      else:\n",
        "        milestone_index += 8\n",
        "      cuenta += 1\n",
        "    except:\n",
        "      break\n",
        "\n",
        "  SED_index = get_index(data3,'Milestone End Date',1)\n",
        "  cuenta = 0\n",
        "  while cuenta < 100:\n",
        "    try:\n",
        "      name = data3[SED_index + 8]\n",
        "      service_end_date_2.append(name)\n",
        "      SED_index += 8\n",
        "      cuenta += 1\n",
        "    except:\n",
        "      break\n",
        "\n",
        "  MSD_index = get_index(data3,'Milestone Start Date',1)\n",
        "  cuenta = 0\n",
        "  while cuenta < 100:\n",
        "    try:\n",
        "      name = data3[MSD_index + 8]\n",
        "      milestone_start_date_2.append(name)\n",
        "      MSD_index += 8\n",
        "      cuenta += 1\n",
        "    except:\n",
        "      break\n",
        "\n",
        "  try:\n",
        "    table_index = get_table_index(tables, 'Payment Terms')\n",
        "  except:\n",
        "    table_index = [None]    \n",
        "    \n",
        "  data2 = []\n",
        "  keys = None\n",
        "\n",
        "  if table_index[0] != None:\n",
        "    for i, row in enumerate(tables[table_index].rows[:]):\n",
        "      text = (cell.text for cell in row.cells)\n",
        "      text = list(text)\n",
        "      for i in text:\n",
        "        data2.append(text)\n",
        "\n",
        "    data3 = get_unique_list(data2)\n",
        "\n",
        "    payment_index = get_index(data3,'Payment Terms',1)\n",
        "    cuenta = 0\n",
        "    while cuenta < 100:\n",
        "      try:\n",
        "        name = data3[payment_index + 6]\n",
        "        \n",
        "        if name != '':            \n",
        "          if len(milestone_name) > 1:\n",
        "            for r in range(0, len(milestone_name)):\n",
        "              payment_terms_2.append(name)\n",
        "          else:\n",
        "            payment_terms_2.append(name)\n",
        "          payment_index += 6\n",
        "        else:\n",
        "          pass\n",
        "        cuenta += 1        \n",
        "      except:\n",
        "        break\n",
        "  else:\n",
        "    for i in range(0, len(milestone_name)):\n",
        "      payment_terms_2.append('-') \n",
        "\n",
        "  UID_2 = str(uuid.uuid4())\n",
        "  for i in range(0, len(milestone_name)):\n",
        "    UIDtemp_2.append(UID_2)\n",
        "  \n",
        "  filename2 = str(file)\n",
        "  for i in range(0, len(milestone_name)):\n",
        "    agreement_name_2.append(filename2)"
      ],
      "metadata": {
        "id": "Aak1xUSbs_cm"
      },
      "execution_count": null,
      "outputs": []
    },
    {
      "cell_type": "markdown",
      "source": [
        "## Unificación"
      ],
      "metadata": {
        "id": "8IayS_L40hZE"
      }
    },
    {
      "cell_type": "code",
      "source": [
        "milestone_name = []\n",
        "milestone_start_date = []\n",
        "service_end_date = []\n",
        "payment_terms = []\n",
        "UID = []\n",
        "agreement_name = []\n",
        "\n",
        "payment_terms += payment_terms_1\n",
        "service_end_date += service_end_date_1\n",
        "milestone_name += milestone_name_1\n",
        "milestone_start_date += milestone_start_date_1\n",
        "UID += UIDtemp_1\n",
        "agreement_name += agreement_name_1\n",
        "\n",
        "payment_terms += payment_terms_2\n",
        "milestone_start_date += milestone_start_date_2\n",
        "service_end_date += service_end_date_2\n",
        "milestone_name += milestone_name_2 \n",
        "UID += UIDtemp_2\n",
        "agreement_name += agreement_name_2"
      ],
      "metadata": {
        "id": "wj6JLcjt0iXF"
      },
      "execution_count": null,
      "outputs": []
    },
    {
      "cell_type": "code",
      "source": [
        "DataTable2_1 = {'Milestone Name':milestone_name,\n",
        "              'Milestone Start Date':milestone_start_date,\n",
        "              'Milestone End Date':service_end_date,\n",
        "              'Payment Terms':payment_terms,\n",
        "              'Agreement Name':agreement_name\n",
        "               }\n",
        "\n",
        "DataTable2_1 = pd.DataFrame(DataTable2_1)\n",
        "DataTable2 = DataTable1[['Agency','Entity (Client)','Agreement Name','Event']].merge(DataTable2_1, on='Agreement Name', how='left')\n",
        "DataTable2.to_excel(str(output_path) + 'DataTable2.xlsx')"
      ],
      "metadata": {
        "id": "vczD9Hde9pb1"
      },
      "execution_count": null,
      "outputs": []
    },
    {
      "cell_type": "markdown",
      "source": [
        "# DataTable 3"
      ],
      "metadata": {
        "id": "cA4r1_G8VlCM"
      }
    },
    {
      "cell_type": "markdown",
      "source": [
        "## Formato 2"
      ],
      "metadata": {
        "id": "-e7-W7BqVnNO"
      }
    },
    {
      "cell_type": "code",
      "source": [
        "milestone_name_2 = []\n",
        "resource_name_2 = []\n",
        "title_2 = []\n",
        "unit_cost_2 = []\n",
        "qty_2 = []\n",
        "net_cost_2 = []\n",
        "UID_2 = []\n",
        "agreement_name_2 = []"
      ],
      "metadata": {
        "id": "vlCC56mMeA00"
      },
      "execution_count": null,
      "outputs": []
    },
    {
      "cell_type": "code",
      "source": [
        "words_path = '..'\n",
        "files = [f for f in os.listdir(words_path) if f.endswith(\".docx\")]\n",
        "\n",
        "for file in files:\n",
        "  word_file = Document(words_path + file)\n",
        "  tables = word_file.tables\n",
        "\n",
        "  table_index = get_table_index_2(tables, 'Employer of Personnel')\n",
        "\n",
        "  data2 = []\n",
        "  keys = None\n",
        "  for i, row in enumerate(tables[table_index].rows[:]):\n",
        "    text = (cell.text for cell in row.cells)\n",
        "    text = list(text)\n",
        "    for i in text:\n",
        "      data2.append(text)\n",
        "\n",
        "  data3_1 = get_unique_list(data2)\n",
        "  data3 = []\n",
        "  for i in data3_1:\n",
        "    if 'TOTAL' not in i.upper() and 'DISCOUNT' not in i.upper():\n",
        "      data3.append(i)\n",
        "    else:\n",
        "      pass\n",
        "  data3 = data3[0:-3]\n",
        "\n",
        "  milestone_index = get_index(data3,'Milestone No',1)\n",
        "  milestone_name = []\n",
        "  cuenta = 0\n",
        "  while cuenta < 100:\n",
        "    try:\n",
        "      name = data3[milestone_index + 8]\n",
        "      if name != '':\n",
        "        milestone_name.append(name)\n",
        "        milestone_name_2.append(name)\n",
        "        milestone_index += 10\n",
        "      else:\n",
        "        milestone_index += 10\n",
        "      cuenta += 1\n",
        "    except:\n",
        "      break\n",
        "\n",
        "  resource_name_index = get_index(data3, 'Employer of Personnel', 1)\n",
        "  cuenta = 0\n",
        "  while cuenta < 100:\n",
        "    try:\n",
        "      rn = data3[resource_name_index + 8]\n",
        "      if rn != '':\n",
        "        resource_name_2.append(rn)\n",
        "        resource_name_index += 10\n",
        "      else:\n",
        "        resource_name_index += 10\n",
        "      cuenta += 1\n",
        "    except:\n",
        "      break \n",
        "\n",
        "  title_index = get_index(data3, 'Title', 1)\n",
        "  cuenta = 0\n",
        "  while cuenta < 100:\n",
        "    try:\n",
        "      tl = data3[title_index + 8]\n",
        "      if tl != '':\n",
        "        title_2.append(tl)\n",
        "        title_index += 10\n",
        "      else:\n",
        "        title_index += 10\n",
        "      cuenta += 1\n",
        "    except:\n",
        "      break\n",
        "\n",
        "  unit_cost_index = get_index(data3, 'Hourly Rate', 1)\n",
        "  cuenta = 0\n",
        "  while cuenta < 100:\n",
        "    try:\n",
        "      uc = data3[unit_cost_index + 8]\n",
        "      if uc != '':\n",
        "        unit_cost_2.append(uc)\n",
        "        unit_cost_index += 10\n",
        "      else:\n",
        "        unit_cost_index += 10\n",
        "      cuenta += 1\n",
        "    except:\n",
        "      break  \n",
        "\n",
        "  qty_index = get_index(data3, 'Hourly Rate', 1)\n",
        "  cuenta = 0\n",
        "  while cuenta < 100:\n",
        "    try:\n",
        "      qt = data3[qty_index + 9]\n",
        "      if qt != '':\n",
        "        qty_2.append(qt)\n",
        "        qty_index += 10\n",
        "      else:\n",
        "        qty_index += 10\n",
        "      cuenta += 1\n",
        "    except:\n",
        "      break  \n",
        "\n",
        "  net_cost_index = get_index(data3, 'Hourly Rate', 1)\n",
        "  cuenta = 0\n",
        "  while cuenta < 100:\n",
        "    try:\n",
        "      nc = data3[net_cost_index + 10]\n",
        "      if nc != '' and 'TOTAL' not in nc:\n",
        "        net_cost_2.append(nc)\n",
        "        net_cost_index += 10\n",
        "      else:\n",
        "        net_cost_index += 10\n",
        "      cuenta += 1\n",
        "    except:\n",
        "      break\n",
        "\n",
        "  UID2 = str(uuid.uuid4())\n",
        "  for i in range(0, len(milestone_name)):\n",
        "    UID_2.append(UID2)\n",
        "  \n",
        "  filename2 = str(file)\n",
        "  for i in range(0, len(milestone_name)):\n",
        "    agreement_name_2.append(filename2)\n",
        "\n",
        "print(len(milestone_name_2))\n",
        "print(len(title_2))\n",
        "print(len(resource_name_2))\n",
        "print(len(unit_cost_2))\n",
        "print(len(qty_2))\n",
        "print(len(net_cost_2))\n",
        "print(len(agreement_name_2))\n",
        "print(len(UID_2))"
      ],
      "metadata": {
        "id": "OoC0iDptVoIz",
        "colab": {
          "base_uri": "https://localhost:8080/"
        },
        "outputId": "e7163da0-37c6-46de-a30f-b79b969e704d"
      },
      "execution_count": null,
      "outputs": [
        {
          "output_type": "stream",
          "name": "stdout",
          "text": [
            "15\n",
            "15\n",
            "15\n",
            "15\n",
            "15\n",
            "15\n",
            "15\n",
            "15\n"
          ]
        }
      ]
    },
    {
      "cell_type": "markdown",
      "source": [
        "## Formato 3"
      ],
      "metadata": {
        "id": "4EZZtzg7ZCdT"
      }
    },
    {
      "cell_type": "code",
      "source": [
        "milestone_name_3 = []\n",
        "resource_name_3 = []\n",
        "title_3 = []\n",
        "unit_cost_3 = []\n",
        "qty_3 = []\n",
        "net_cost_3 = []\n",
        "UID_3 = []\n",
        "agreement_name_3 = []"
      ],
      "metadata": {
        "id": "Tx6xOTzqFxFZ"
      },
      "execution_count": null,
      "outputs": []
    },
    {
      "cell_type": "code",
      "source": [
        "words_path = '..'\n",
        "files = [f for f in os.listdir(words_path) if f.endswith(\".docx\")]\n",
        "\n",
        "for file in files:\n",
        "  word_file = Document(words_path + file)\n",
        "  tables = word_file.tables\n",
        "\n",
        "  table_index = get_table_index_2(tables, 'Employer of Personnel')\n",
        "\n",
        "  data2 = []\n",
        "  keys = None\n",
        "  for i, row in enumerate(tables[table_index].rows[:]):\n",
        "    text = (cell.text for cell in row.cells)\n",
        "    text = list(text)\n",
        "    for i in text:\n",
        "      data2.append(text)\n",
        "\n",
        "  data3_1 = get_unique_list(data2)\n",
        "  # data3 = [i for i in data3 if i != 'TOTAL:' and i != 'VP of Strategic Accounts Discount' and i != '4% Services Discount']\n",
        "  data3 = []\n",
        "  for i in data3_1:\n",
        "    if 'TOTAL' not in i.upper() and 'DISCOUNT' not in i.upper():\n",
        "      data3.append(i)\n",
        "    else:\n",
        "      pass\n",
        "  data3 = data3[0:-3]\n",
        "\n",
        "  milestone_index = get_index(data3,'Milestone No',1)\n",
        "  milestone_name = []\n",
        "  cuenta = 0\n",
        "  while cuenta < 100:\n",
        "    try:\n",
        "      name = data3[milestone_index + 10]\n",
        "      if name != '':\n",
        "        milestone_name_3.append(name)\n",
        "        milestone_name.append(name)\n",
        "        milestone_index += 12\n",
        "      else:\n",
        "        milestone_index += 12\n",
        "      cuenta += 1\n",
        "    except:\n",
        "      break\n",
        "\n",
        "  resource_name_index = get_index(data3, 'Employer of Personnel', 1)\n",
        "  cuenta = 0\n",
        "  while cuenta < 100:\n",
        "    try:\n",
        "      rn = data3[resource_name_index + 10]\n",
        "      if rn != '':\n",
        "        resource_name_3.append(rn)\n",
        "        resource_name_index += 12\n",
        "      else:\n",
        "        resource_name_index += 12\n",
        "      cuenta += 1\n",
        "    except:\n",
        "      break \n",
        "\n",
        "  title_index = get_index(data3, 'Title', 1)\n",
        "  cuenta = 0\n",
        "  while cuenta < 100:\n",
        "    try:\n",
        "      tl = data3[title_index + 10]\n",
        "      if tl != '':\n",
        "        title_3.append(tl)\n",
        "        title_index += 12\n",
        "      else:\n",
        "        title_index += 12\n",
        "      cuenta += 1\n",
        "    except:\n",
        "      break\n",
        "\n",
        "  unit_cost_index = get_index(data3, 'Hourly Rate', 1)\n",
        "  cuenta = 0\n",
        "  while cuenta < 100:\n",
        "    try:\n",
        "      uc = data3[unit_cost_index + 10]\n",
        "      if uc != '':\n",
        "        unit_cost_3.append(uc)\n",
        "        unit_cost_index += 12\n",
        "      else:\n",
        "        unit_cost_index += 12\n",
        "      cuenta += 1\n",
        "    except:\n",
        "      break \n",
        "\n",
        "  qty_index = get_index(data3, 'Hourly Rate', 1)\n",
        "  cuenta = 0\n",
        "  while cuenta < 100:\n",
        "    try:\n",
        "      qt = data3[qty_index + 11]\n",
        "      if qt != '':\n",
        "        qty_3.append(qt)\n",
        "        qty_index += 12\n",
        "      else:\n",
        "        qty_index += 12\n",
        "      cuenta += 1\n",
        "    except:\n",
        "      break  \n",
        "\n",
        "  net_cost_index = get_index(data3, 'Hourly Rate', 1)\n",
        "  cuenta = 0\n",
        "  while cuenta < 100:\n",
        "    try:\n",
        "      nc = data3[net_cost_index + 12]\n",
        "      if nc != '' and 'TOTAL' not in nc:\n",
        "        net_cost_3.append(nc)\n",
        "        net_cost_index += 12\n",
        "      else:\n",
        "        net_cost_index += 12\n",
        "      cuenta += 1\n",
        "    except:\n",
        "      break\n",
        "\n",
        "  UID3 = str(uuid.uuid4())\n",
        "  for i in range(0, len(milestone_name)):\n",
        "    UID_3.append(UID3)\n",
        "  \n",
        "  filename3 = str(file)\n",
        "  for i in range(0, len(milestone_name)):\n",
        "    agreement_name_3.append(filename3)\n",
        "\n",
        "print(len(milestone_name_3))\n",
        "print(len(title_3))\n",
        "print(len(resource_name_3))\n",
        "print(len(unit_cost_3))\n",
        "print(len(qty_3))\n",
        "print(len(net_cost_3))\n",
        "print(len(agreement_name_3))\n",
        "print(len(UID_3))"
      ],
      "metadata": {
        "id": "pBYlipBCZDkT",
        "colab": {
          "base_uri": "https://localhost:8080/"
        },
        "outputId": "30b3d9e0-e7f9-440d-d050-66317e6c7371"
      },
      "execution_count": null,
      "outputs": [
        {
          "output_type": "stream",
          "name": "stdout",
          "text": [
            "0\n",
            "0\n",
            "0\n",
            "0\n",
            "0\n",
            "0\n",
            "0\n",
            "0\n"
          ]
        }
      ]
    },
    {
      "cell_type": "markdown",
      "source": [
        "## Unificación"
      ],
      "metadata": {
        "id": "oMXZossqG8dH"
      }
    },
    {
      "cell_type": "code",
      "source": [
        "milestone_name = []\n",
        "resource_name = []\n",
        "title = []\n",
        "unit_cost = []\n",
        "qty = []\n",
        "net_cost = []\n",
        "UID = []\n",
        "agreement_name = []\n",
        "\n",
        "milestone_name += milestone_name_2\n",
        "milestone_name += milestone_name_3\n",
        "\n",
        "resource_name += resource_name_2\n",
        "resource_name += resource_name_3\n",
        "\n",
        "title += title_2\n",
        "title += title_3\n",
        "\n",
        "unit_cost += unit_cost_2\n",
        "unit_cost += unit_cost_3\n",
        "\n",
        "qty += qty_2\n",
        "qty += qty_3\n",
        "\n",
        "net_cost += net_cost_2\n",
        "net_cost += net_cost_3\n",
        "\n",
        "UID += UID_2\n",
        "UID += UID_3\n",
        "\n",
        "agreement_name += agreement_name_2\n",
        "agreement_name += agreement_name_3"
      ],
      "metadata": {
        "id": "lG6GQ6JbG76_"
      },
      "execution_count": null,
      "outputs": []
    },
    {
      "cell_type": "code",
      "source": [
        "DataTable3_1 = {'Milestone':milestone_name,\n",
        "              'Title':title,\n",
        "              'Resource Name':resource_name,\n",
        "              'Unit Cost': unit_cost,\n",
        "              'Qty':qty,\n",
        "              'Net Cost':net_cost,\n",
        "              'Agreement Name':agreement_name    \n",
        "             }\n",
        "\n",
        "DataTable3_1 = pd.DataFrame(DataTable3_1)\n",
        "DataTable3 = DataTable1[['Agency','Date','Agreement Name','Event']].merge(DataTable3_1, on='Agreement Name', how='left')\n",
        "DataTable3.dropna(inplace=True)\n",
        "DataTable3.to_excel(str(output_path) + 'DataTable3.xlsx')"
      ],
      "metadata": {
        "id": "r_MMGBmzHkH4"
      },
      "execution_count": null,
      "outputs": []
    },
    {
      "cell_type": "markdown",
      "source": [
        "# DataTable 4"
      ],
      "metadata": {
        "id": "q-FE_1Gtkb1c"
      }
    },
    {
      "cell_type": "markdown",
      "source": [
        "## Formato 1"
      ],
      "metadata": {
        "id": "sNbWa0YYkeTU"
      }
    },
    {
      "cell_type": "code",
      "source": [
        "item_description = []\n",
        "vendor = []\n",
        "unit_cost = []\n",
        "qty = []\n",
        "net_cost = []\n",
        "taxes = []\n",
        "UID = []\n",
        "agreement_name = []\n",
        "\n",
        "words_path = '..'\n",
        "files = [f for f in os.listdir(words_path) if f.endswith(\".docx\")]\n",
        "\n",
        "for file in files:\n",
        "  word_file = Document(words_path + file)\n",
        "  tables = word_file.tables\n",
        "\n",
        "  item_description_2 = []\n",
        "\n",
        "  data = []\n",
        "\n",
        "  table_index = get_table_index_3(tables, 'Detailed Event Budget')\n",
        "  detail_tables = []\n",
        "\n",
        "  for table in table_index:\n",
        "    if table not in detail_tables:\n",
        "      detail_tables.append(table)\n",
        "\n",
        "      for table in detail_tables:\n",
        "        for i, row in enumerate (tables[table].rows[:]):\n",
        "          row_content = []\n",
        "          for cell in row.cells[:]:\n",
        "            c = cell.text\n",
        "            c = c.strip(\"\\n\").strip(\"\\t\")\n",
        "            c = c.replace('\\n', ' ')\n",
        "            row_content.append(c)\n",
        "          data.append(row_content)\n",
        "\n",
        "        description_index = get_index(data[0], 'Detailed Event Budget', 1)\n",
        "        vendor_index = get_index(data[0], 'Vendor', 1)\n",
        "        unit_cost_index = get_index(data[0], 'Cost', 1)\n",
        "        qty_index = get_index(data[0], 'Qty', 1)\n",
        "        net_cost_index = get_index(data[0], 'Net USD', 1)\n",
        "        tax_index = get_index(data[0], 'Taxes USD', 1)\n",
        "\n",
        "\n",
        "        for i in range(1,len(data)-1):\n",
        "          description = data[i][description_index].replace('\\t','')\n",
        "          item_description_2.append(description)\n",
        "          item_description.append(description)\n",
        "\n",
        "          vendor_2 = data[i][vendor_index].replace('\\t','')\n",
        "          vendor.append(vendor_2)\n",
        "\n",
        "          unit_cost_2 = data[i][unit_cost_index].replace('\\t','')\n",
        "          unit_cost.append(unit_cost_2)\n",
        "\n",
        "          qty_2 = data[i][qty_index].replace('\\t','')\n",
        "          qty.append(qty_2)\n",
        "\n",
        "          net_cost_2 = data[i][net_cost_index].replace('\\t','')\n",
        "          net_cost.append(net_cost_2)\n",
        "\n",
        "          tax_2 = data[i][tax_index].replace('\\t','')\n",
        "          taxes.append(tax_2)\n",
        "\n",
        "  UID1 = []\n",
        "  UID1 = str(uuid.uuid4())\n",
        "  for i in range(0, len(item_description_2)):\n",
        "    UID.append(UID1)\n",
        "\n",
        "  filename1 = []\n",
        "  filename1 = str(file)\n",
        "  for i in range(0, len(item_description_2)):\n",
        "    agreement_name.append(filename1)\n",
        "\n",
        "print(len(item_description))\n",
        "print(len(vendor))\n",
        "print(len(unit_cost))\n",
        "print(len(net_cost))\n",
        "print(len(taxes))\n",
        "print(len(qty))\n",
        "print(len(agreement_name))\n",
        "print(len(UID))    "
      ],
      "metadata": {
        "id": "snPnAy0okfUz"
      },
      "execution_count": null,
      "outputs": []
    },
    {
      "cell_type": "code",
      "source": [
        "DataTable4_1 = {'Item Description':item_description,\n",
        "              'Vendor':vendor,\n",
        "              'Unit Cost':unit_cost,\n",
        "              'Qty':qty,\n",
        "              'Net Cost':net_cost,\n",
        "              'Taxes $':taxes,\n",
        "              'Agreement Name':agreement_name\n",
        "             }\n",
        "\n",
        "DataTable4_1 = pd.DataFrame(DataTable4_1)\n",
        "DataTable4 = DataTable1[['Agency','Entity (Client)','Agreement Name','Event']].merge(DataTable4_1, on='Agreement Name', how='left')\n",
        "DataTable4 = DataTable4.apply(lambda x: x.replace('', np.nan))\n",
        "DataTable4.dropna(inplace=True)\n",
        "DataTable4.to_excel(str(output_path) + 'DataTable4.xlsx')"
      ],
      "metadata": {
        "id": "UCbbW_m3IY04"
      },
      "execution_count": null,
      "outputs": []
    }
  ]
}